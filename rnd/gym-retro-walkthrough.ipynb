{
 "cells": [
  {
   "cell_type": "markdown",
   "metadata": {},
   "source": [
    "## Record a Random Agent"
   ]
  },
  {
   "cell_type": "code",
   "execution_count": null,
   "metadata": {},
   "outputs": [],
   "source": [
    "import retro\n",
    "\n",
    "env = retro.make(game='SonicTheHedgehog-Genesis', state='GreenHillZone.Act1', record=True)\n",
    "env.reset()\n",
    "time = 0\n",
    "total_reward = 0\n",
    "while True:\n",
    "    action = env.action_space.sample()\n",
    "    observation, reward, done, info = env.step(action)\n",
    "    time += 1\n",
    "    if time % 10 == 0:\n",
    "        if info:\n",
    "            info_content = {key: value for key, value in info.items()}\n",
    "            print(f'time={time}, info: {info_content}')\n",
    "        env.render()\n",
    "    total_reward += reward\n",
    "    if reward > 0:\n",
    "        print(f'time: {time}, reward: {reward}, current_reward: {total_reward}')\n",
    "    if reward < 0:\n",
    "        print(f'time: {time}, penalty: {reward}, current_reward: {total_reward}')\n",
    "    if done:\n",
    "        # This happens both, when time and lives are up, and when game is completed\n",
    "        env.render()\n",
    "        print('done!')\n",
    "        break\n",
    "print(f'time: {time}, total_reward: {total_reward}')"
   ]
  },
  {
   "cell_type": "markdown",
   "metadata": {},
   "source": [
    "## Playback of Recording from previous step\n",
    "Cannot create multiple emulator instances per process, so this requires a Jupyter Notebook Kernel Restart"
   ]
  },
  {
   "cell_type": "code",
   "execution_count": null,
   "metadata": {},
   "outputs": [],
   "source": [
    "import retro\n",
    "\n",
    "movie = retro.Movie('SonicTheHedgehog-Genesis-GreenHillZone.Act1-0000.bk2')\n",
    "movie.step()\n",
    "\n",
    "env = retro.make(game=movie.get_game(), state=retro.STATE_NONE, use_restricted_actions=retro.ACTIONS_ALL)\n",
    "env.initial_state = movie.get_state()\n",
    "env.reset()\n",
    "\n",
    "while movie.step():\n",
    "    keys = []\n",
    "    for i in range(env.NUM_BUTTONS):\n",
    "        keys.append(movie.get_key(i))\n",
    "    _obs, _rew, _done, _info = env.step(keys)\n",
    "    env.render()"
   ]
  },
  {
   "cell_type": "code",
   "execution_count": null,
   "metadata": {},
   "outputs": [],
   "source": [
    "import retro\n",
    "retro.list_games()"
   ]
  },
  {
   "cell_type": "code",
   "execution_count": null,
   "metadata": {},
   "outputs": [],
   "source": [
    "import retro\n",
    "for game in retro.list_games():\n",
    "    print(game, retro.list_states(game))"
   ]
  }
 ],
 "metadata": {
  "kernelspec": {
   "display_name": "Python 3",
   "language": "python",
   "name": "python3"
  },
  "language_info": {
   "codemirror_mode": {
    "name": "ipython",
    "version": 3
   },
   "file_extension": ".py",
   "mimetype": "text/x-python",
   "name": "python",
   "nbconvert_exporter": "python",
   "pygments_lexer": "ipython3",
   "version": "3.6.2"
  }
 },
 "nbformat": 4,
 "nbformat_minor": 2
}
